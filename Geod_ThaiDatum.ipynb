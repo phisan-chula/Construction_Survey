{
  "nbformat": 4,
  "nbformat_minor": 0,
  "metadata": {
    "colab": {
      "provenance": [],
      "collapsed_sections": [],
      "authorship_tag": "ABX9TyP/ytx2+escv9VCApm9GPL5",
      "include_colab_link": true
    },
    "kernelspec": {
      "name": "python3",
      "display_name": "Python 3"
    },
    "language_info": {
      "name": "python"
    }
  },
  "cells": [
    {
      "cell_type": "markdown",
      "metadata": {
        "id": "view-in-github",
        "colab_type": "text"
      },
      "source": [
        "<a href=\"https://colab.research.google.com/github/phisan-chula/Construction_Survey/blob/main/Geod_ThaiDatum.ipynb\" target=\"_parent\"><img src=\"https://colab.research.google.com/assets/colab-badge.svg\" alt=\"Open In Colab\"/></a>"
      ]
    },
    {
      "cell_type": "markdown",
      "source": [
        "Thai Datum Transformation via pyproj using 'pipeline' technique \n",
        "for concise and clear calculation step.<br>\n",
        "Example from the Roytal Thai Irrigation Department<br>\n",
        "QR Code GPS Benchmark Description<br>\n",
        "!!! GNSS610321 I75_E, I75_N coorindate is obviously wrongly tippo<br>\n",
        "<br>\n",
        " P.Santitamnont, Chulalongkorn University<br>\n",
        " Oct 22, 2022<br>\n",
        " <br>\n",
        "\n",
        "![](https://raw.githubusercontent.com/phisan-chula/Construction_Survey/main/QR_Code_RID_61032x.png)\n",
        "\n"
      ],
      "metadata": {
        "id": "o-t6dIvZytdT"
      }
    },
    {
      "cell_type": "code",
      "source": [
        "! pip install -q condacolab\n",
        "import condacolab\n",
        "condacolab.install()"
      ],
      "metadata": {
        "colab": {
          "base_uri": "https://localhost:8080/"
        },
        "id": "jxCuiD9C875X",
        "outputId": "d9261254-c907-4da1-918d-0a73067b7965"
      },
      "execution_count": 47,
      "outputs": [
        {
          "output_type": "stream",
          "name": "stdout",
          "text": [
            "\u001b[33mWARNING: Running pip as the 'root' user can result in broken permissions and conflicting behaviour with the system package manager. It is recommended to use a virtual environment instead: https://pip.pypa.io/warnings/venv\u001b[0m\u001b[33m\n",
            "\u001b[0m✨🍰✨ Everything looks OK!\n"
          ]
        }
      ]
    },
    {
      "cell_type": "markdown",
      "source": [
        "Change 0 or 1 in the cell below<br>\n",
        "TEST_PROJINFO=1   ... to test projinfo ....<br>\n",
        "TEST_PROJINFO=0   ... to skip this long process<br>"
      ],
      "metadata": {
        "id": "x9KUC-gJr4kj"
      }
    },
    {
      "cell_type": "code",
      "source": [
        "%%shell\n",
        "TEST_PROJINFO=0\n",
        "if [ $TEST_PROJINFO -eq 1 ]; then\n",
        "    echo \"@@@@@@ Preparing proj4 .... @@@@@@\"\n",
        "    conda install -c conda-forge proj\n",
        "    conda install -c conda-forge proj-data\n",
        "    echo \"@@@@@@ Testing projinfo  ... @@@@@@\"\n",
        "    proj -v\n",
        "    projinfo -o PROJ  -s  EPSG:4326  -t  EPSG:4240\n",
        "    projinfo -o PROJ -s EPSG:32647 -t  EPSG:24047\n",
        "fi;"
      ],
      "metadata": {
        "colab": {
          "base_uri": "https://localhost:8080/"
        },
        "id": "c7HZPJ37qWB9",
        "outputId": "1a7e9b26-c8ee-4049-950c-663d2a6e7028"
      },
      "execution_count": 48,
      "outputs": [
        {
          "output_type": "execute_result",
          "data": {
            "text/plain": []
          },
          "metadata": {},
          "execution_count": 48
        }
      ]
    },
    {
      "cell_type": "code",
      "source": [
        "! pip3 install pyproj\n",
        "! pip3 install pygeodesy"
      ],
      "metadata": {
        "id": "d9l7BqaABCQI",
        "colab": {
          "base_uri": "https://localhost:8080/"
        },
        "outputId": "6c038f08-9278-47e5-ea57-f061b3d1ed9a"
      },
      "execution_count": 49,
      "outputs": [
        {
          "output_type": "stream",
          "name": "stdout",
          "text": [
            "Looking in indexes: https://pypi.org/simple, https://us-python.pkg.dev/colab-wheels/public/simple/\n",
            "Requirement already satisfied: pyproj in /usr/local/lib/python3.7/site-packages (3.2.1)\n",
            "Requirement already satisfied: certifi in /usr/local/lib/python3.7/site-packages (from pyproj) (2022.9.24)\n",
            "\u001b[33mWARNING: Running pip as the 'root' user can result in broken permissions and conflicting behaviour with the system package manager. It is recommended to use a virtual environment instead: https://pip.pypa.io/warnings/venv\u001b[0m\u001b[33m\n",
            "\u001b[0mLooking in indexes: https://pypi.org/simple, https://us-python.pkg.dev/colab-wheels/public/simple/\n",
            "Requirement already satisfied: pygeodesy in /usr/local/lib/python3.7/site-packages (22.10.10)\n",
            "\u001b[33mWARNING: Running pip as the 'root' user can result in broken permissions and conflicting behaviour with the system package manager. It is recommended to use a virtual environment instead: https://pip.pypa.io/warnings/venv\u001b[0m\u001b[33m\n",
            "\u001b[0m"
          ]
        }
      ]
    },
    {
      "cell_type": "code",
      "source": [
        "from pyproj import Transformer, Proj\n",
        "import numpy as np\n",
        "import pygeodesy as pgd\n",
        "import pandas as pd\n",
        "pd.options.display.max_colwidth = 100\n",
        "\n",
        "#############################################################\n",
        "def dd2DMS( dd, PREC=5, POS=''  ):\n",
        "    '''conver degree to DMS string'''\n",
        "    return pgd.dms.toDMS( dd, prec=PREC,pos=POS )\n",
        "_dd2DMS = np.vectorize( dd2DMS )\n",
        "\n",
        "RID_SHIFT = ' +x=204.4798 +y=837.8940 +z=294.7765 +rx=0 +ry=0 +rz=0 +s=0'\n",
        "# adapting from   ! projinfo -o PROJ -s EPSG:32647 -t  EPSG:24047\n",
        "UTMz47_W84toI75 =  '''+proj=pipeline  \n",
        "  +step +inv +proj=utm +zone=47 +ellps=WGS84 \n",
        "  +step +proj=push +v_3 \n",
        "  +step +proj=cart +ellps=WGS84 \n",
        "  +step +inv +proj=helmert {} +convention=position_vector \n",
        "  +step +inv +proj=cart +ellps=evrst30 \n",
        "  +step +proj=pop +v_3  \n",
        "  +step +proj=utm +zone=47 +ellps=evrst30'''.format( RID_SHIFT )\n",
        "\n",
        "#############################################################\n",
        "pnt = (    ('GNSS610361' , 1_532_996.129, 701_923.398  ),\n",
        "           ( 'GNSS610362', 1_532_910.154, 701_854.806 ),\n",
        "           ( 'GPS_007' ,   1_676_063.814, 626_858.214  ),\n",
        "           ( 'GPS_007A',   1_676_172.766, 626_813.837 ),\n",
        "           ( 'GPS_610321',   1_548_769.191, 739_940.719 ),\n",
        "           ( 'GPS_610322',   1_548_518.447, 739_786.618 ),\n",
        "        )\n",
        "df = pd.DataFrame( pnt, columns=['Name', 'W84_N', 'W84_E' ] )\n",
        "#############################################################\n",
        "df"
      ],
      "metadata": {
        "colab": {
          "base_uri": "https://localhost:8080/",
          "height": 237
        },
        "id": "aCthMdfg478k",
        "outputId": "497d0974-3edf-4b1b-be58-4e9209a216a6"
      },
      "execution_count": 50,
      "outputs": [
        {
          "output_type": "execute_result",
          "data": {
            "text/plain": [
              "         Name        W84_N       W84_E\n",
              "0  GNSS610361  1532996.129  701923.398\n",
              "1  GNSS610362  1532910.154  701854.806\n",
              "2     GPS_007  1676063.814  626858.214\n",
              "3    GPS_007A  1676172.766  626813.837\n",
              "4  GPS_610321  1548769.191  739940.719\n",
              "5  GPS_610322  1548518.447  739786.618"
            ],
            "text/html": [
              "\n",
              "  <div id=\"df-d65d1942-4fda-4c5a-82ab-abac82509a01\">\n",
              "    <div class=\"colab-df-container\">\n",
              "      <div>\n",
              "<style scoped>\n",
              "    .dataframe tbody tr th:only-of-type {\n",
              "        vertical-align: middle;\n",
              "    }\n",
              "\n",
              "    .dataframe tbody tr th {\n",
              "        vertical-align: top;\n",
              "    }\n",
              "\n",
              "    .dataframe thead th {\n",
              "        text-align: right;\n",
              "    }\n",
              "</style>\n",
              "<table border=\"1\" class=\"dataframe\">\n",
              "  <thead>\n",
              "    <tr style=\"text-align: right;\">\n",
              "      <th></th>\n",
              "      <th>Name</th>\n",
              "      <th>W84_N</th>\n",
              "      <th>W84_E</th>\n",
              "    </tr>\n",
              "  </thead>\n",
              "  <tbody>\n",
              "    <tr>\n",
              "      <th>0</th>\n",
              "      <td>GNSS610361</td>\n",
              "      <td>1532996.129</td>\n",
              "      <td>701923.398</td>\n",
              "    </tr>\n",
              "    <tr>\n",
              "      <th>1</th>\n",
              "      <td>GNSS610362</td>\n",
              "      <td>1532910.154</td>\n",
              "      <td>701854.806</td>\n",
              "    </tr>\n",
              "    <tr>\n",
              "      <th>2</th>\n",
              "      <td>GPS_007</td>\n",
              "      <td>1676063.814</td>\n",
              "      <td>626858.214</td>\n",
              "    </tr>\n",
              "    <tr>\n",
              "      <th>3</th>\n",
              "      <td>GPS_007A</td>\n",
              "      <td>1676172.766</td>\n",
              "      <td>626813.837</td>\n",
              "    </tr>\n",
              "    <tr>\n",
              "      <th>4</th>\n",
              "      <td>GPS_610321</td>\n",
              "      <td>1548769.191</td>\n",
              "      <td>739940.719</td>\n",
              "    </tr>\n",
              "    <tr>\n",
              "      <th>5</th>\n",
              "      <td>GPS_610322</td>\n",
              "      <td>1548518.447</td>\n",
              "      <td>739786.618</td>\n",
              "    </tr>\n",
              "  </tbody>\n",
              "</table>\n",
              "</div>\n",
              "      <button class=\"colab-df-convert\" onclick=\"convertToInteractive('df-d65d1942-4fda-4c5a-82ab-abac82509a01')\"\n",
              "              title=\"Convert this dataframe to an interactive table.\"\n",
              "              style=\"display:none;\">\n",
              "        \n",
              "  <svg xmlns=\"http://www.w3.org/2000/svg\" height=\"24px\"viewBox=\"0 0 24 24\"\n",
              "       width=\"24px\">\n",
              "    <path d=\"M0 0h24v24H0V0z\" fill=\"none\"/>\n",
              "    <path d=\"M18.56 5.44l.94 2.06.94-2.06 2.06-.94-2.06-.94-.94-2.06-.94 2.06-2.06.94zm-11 1L8.5 8.5l.94-2.06 2.06-.94-2.06-.94L8.5 2.5l-.94 2.06-2.06.94zm10 10l.94 2.06.94-2.06 2.06-.94-2.06-.94-.94-2.06-.94 2.06-2.06.94z\"/><path d=\"M17.41 7.96l-1.37-1.37c-.4-.4-.92-.59-1.43-.59-.52 0-1.04.2-1.43.59L10.3 9.45l-7.72 7.72c-.78.78-.78 2.05 0 2.83L4 21.41c.39.39.9.59 1.41.59.51 0 1.02-.2 1.41-.59l7.78-7.78 2.81-2.81c.8-.78.8-2.07 0-2.86zM5.41 20L4 18.59l7.72-7.72 1.47 1.35L5.41 20z\"/>\n",
              "  </svg>\n",
              "      </button>\n",
              "      \n",
              "  <style>\n",
              "    .colab-df-container {\n",
              "      display:flex;\n",
              "      flex-wrap:wrap;\n",
              "      gap: 12px;\n",
              "    }\n",
              "\n",
              "    .colab-df-convert {\n",
              "      background-color: #E8F0FE;\n",
              "      border: none;\n",
              "      border-radius: 50%;\n",
              "      cursor: pointer;\n",
              "      display: none;\n",
              "      fill: #1967D2;\n",
              "      height: 32px;\n",
              "      padding: 0 0 0 0;\n",
              "      width: 32px;\n",
              "    }\n",
              "\n",
              "    .colab-df-convert:hover {\n",
              "      background-color: #E2EBFA;\n",
              "      box-shadow: 0px 1px 2px rgba(60, 64, 67, 0.3), 0px 1px 3px 1px rgba(60, 64, 67, 0.15);\n",
              "      fill: #174EA6;\n",
              "    }\n",
              "\n",
              "    [theme=dark] .colab-df-convert {\n",
              "      background-color: #3B4455;\n",
              "      fill: #D2E3FC;\n",
              "    }\n",
              "\n",
              "    [theme=dark] .colab-df-convert:hover {\n",
              "      background-color: #434B5C;\n",
              "      box-shadow: 0px 1px 3px 1px rgba(0, 0, 0, 0.15);\n",
              "      filter: drop-shadow(0px 1px 2px rgba(0, 0, 0, 0.3));\n",
              "      fill: #FFFFFF;\n",
              "    }\n",
              "  </style>\n",
              "\n",
              "      <script>\n",
              "        const buttonEl =\n",
              "          document.querySelector('#df-d65d1942-4fda-4c5a-82ab-abac82509a01 button.colab-df-convert');\n",
              "        buttonEl.style.display =\n",
              "          google.colab.kernel.accessAllowed ? 'block' : 'none';\n",
              "\n",
              "        async function convertToInteractive(key) {\n",
              "          const element = document.querySelector('#df-d65d1942-4fda-4c5a-82ab-abac82509a01');\n",
              "          const dataTable =\n",
              "            await google.colab.kernel.invokeFunction('convertToInteractive',\n",
              "                                                     [key], {});\n",
              "          if (!dataTable) return;\n",
              "\n",
              "          const docLinkHtml = 'Like what you see? Visit the ' +\n",
              "            '<a target=\"_blank\" href=https://colab.research.google.com/notebooks/data_table.ipynb>data table notebook</a>'\n",
              "            + ' to learn more about interactive tables.';\n",
              "          element.innerHTML = '';\n",
              "          dataTable['output_type'] = 'display_data';\n",
              "          await google.colab.output.renderOutput(dataTable, element);\n",
              "          const docLink = document.createElement('div');\n",
              "          docLink.innerHTML = docLinkHtml;\n",
              "          element.appendChild(docLink);\n",
              "        }\n",
              "      </script>\n",
              "    </div>\n",
              "  </div>\n",
              "  "
            ]
          },
          "metadata": {},
          "execution_count": 50
        }
      ]
    },
    {
      "cell_type": "markdown",
      "source": [],
      "metadata": {
        "id": "3g35GClwysD9"
      }
    },
    {
      "cell_type": "code",
      "source": [
        "for i in list(range(0,len(df),2)):\n",
        "    duo = df.loc[i:i+1]\n",
        "    duoEN = duo[['W84_N','W84_E']].to_numpy()\n",
        "    dist = np.linalg.norm( duoEN[:1,]-duoEN[0:,])\n",
        "    azim = np.arctan2( duoEN[1,1]-duoEN[0,1], duoEN[1,0]-duoEN[0,0] )\n",
        "    _, azim = divmod( np.degrees(azim), 360 )\n",
        "    duo_name = f'{ duo.iloc[0].Name}->{ duo.iloc[1].Name}'\n",
        "    print( f'{duo_name:^20s} grid : azi = {dd2DMS(azim,PREC=2):}   dist = {dist:10.3f} meter')"
      ],
      "metadata": {
        "colab": {
          "base_uri": "https://localhost:8080/"
        },
        "id": "SWPVfkQn6v_j",
        "outputId": "9845b62d-7de1-428a-951b-459fcaad70ae"
      },
      "execution_count": 51,
      "outputs": [
        {
          "output_type": "stream",
          "name": "stdout",
          "text": [
            "GNSS610361->GNSS610362 grid : azi = 218°34′59.99″   dist =    109.984 meter\n",
            " GPS_007->GPS_007A   grid : azi = 337°50′18.78″   dist =    117.643 meter\n",
            "GPS_610321->GPS_610322 grid : azi = 211°34′25.84″   dist =    294.312 meter\n"
          ]
        }
      ]
    },
    {
      "cell_type": "markdown",
      "source": [],
      "metadata": {
        "id": "b2egp_oyypX_"
      }
    },
    {
      "cell_type": "code",
      "source": [
        "#########################################################################################\n",
        "def DoTransf( row ):\n",
        "    tr1 = Transformer.from_pipeline( UTMz47_W84toI75 )\n",
        "    I75 = list( tr1.itransform( [(row.W84_E,row.W84_N) ]) )[0]\n",
        "    tr2 = Transformer.from_proj( 'EPSG:32647', 'EPSG:4326' )\n",
        "    W84ll = list( tr2.itransform( [(row.W84_E,row.W84_N) ] ) ) [0]\n",
        "    tr3 = Transformer.from_proj( 'EPSG:24047', 'EPSG:4240' )\n",
        "    I75ll = list( tr3.itransform( [(I75[0],I75[1] )] )) [0]\n",
        "    return np.concatenate(  [np.array(I75), _dd2DMS( W84ll ), _dd2DMS( I75ll ) ] )\n",
        "df[['I75_E','I75_N', 'W84Lat','W84Lng' , 'I75Lat', 'I75Lng' ]] = \\\n",
        "                                                             df.apply( DoTransf, axis=1, result_type='expand')\n",
        "#########################################################################################\n",
        "for col in df.columns:\n",
        "    if col[-2]=='_':\n",
        "        df[col] = df[col].astype(float).round(3)\n",
        "df "
      ],
      "metadata": {
        "colab": {
          "base_uri": "https://localhost:8080/",
          "height": 237
        },
        "id": "r8JVrCMs5GVz",
        "outputId": "b23c220b-8400-4e3b-e1e7-c5eca6f1fe30"
      },
      "execution_count": 52,
      "outputs": [
        {
          "output_type": "execute_result",
          "data": {
            "text/plain": [
              "         Name        W84_N       W84_E       I75_E        I75_N  \\\n",
              "0  GNSS610361  1532996.129  701923.398  702256.082  1532693.208   \n",
              "1  GNSS610362  1532910.154  701854.806  702187.490  1532607.233   \n",
              "2     GPS_007  1676063.814  626858.214  627191.057  1675760.836   \n",
              "3    GPS_007A  1676172.766  626813.837  627146.680  1675869.788   \n",
              "4  GPS_610321  1548769.191  739940.719  740273.379  1548466.216   \n",
              "5  GPS_610322  1548518.447  739786.618  740119.278  1548215.473   \n",
              "\n",
              "            W84Lat            W84Lng           I75Lat            I75Lng  \n",
              "0  13°51′34.83379″  100°52′06.23011″  13°51′28.86118″  100°52′18.18065″  \n",
              "1   13°51′32.0541″  100°52′03.92375″   13°51′26.0813″  100°52′15.87396″  \n",
              "2  15°09′26.20829″  100°10′50.84164″  15°09′20.65008″  100°11′02.54581″  \n",
              "3  15°09′29.76148″  100°10′49.37452″  15°09′24.20359″  100°11′01.07856″  \n",
              "4  13°59′57.30767″  101°13′16.89968″  13°59′51.35788″  101°13′29.01819″  \n",
              "5  13°59′49.19884″  101°13′11.68812″  13°59′43.24847″  101°13′23.80585″  "
            ],
            "text/html": [
              "\n",
              "  <div id=\"df-708c0294-1e09-4268-ba1e-5e67d6068907\">\n",
              "    <div class=\"colab-df-container\">\n",
              "      <div>\n",
              "<style scoped>\n",
              "    .dataframe tbody tr th:only-of-type {\n",
              "        vertical-align: middle;\n",
              "    }\n",
              "\n",
              "    .dataframe tbody tr th {\n",
              "        vertical-align: top;\n",
              "    }\n",
              "\n",
              "    .dataframe thead th {\n",
              "        text-align: right;\n",
              "    }\n",
              "</style>\n",
              "<table border=\"1\" class=\"dataframe\">\n",
              "  <thead>\n",
              "    <tr style=\"text-align: right;\">\n",
              "      <th></th>\n",
              "      <th>Name</th>\n",
              "      <th>W84_N</th>\n",
              "      <th>W84_E</th>\n",
              "      <th>I75_E</th>\n",
              "      <th>I75_N</th>\n",
              "      <th>W84Lat</th>\n",
              "      <th>W84Lng</th>\n",
              "      <th>I75Lat</th>\n",
              "      <th>I75Lng</th>\n",
              "    </tr>\n",
              "  </thead>\n",
              "  <tbody>\n",
              "    <tr>\n",
              "      <th>0</th>\n",
              "      <td>GNSS610361</td>\n",
              "      <td>1532996.129</td>\n",
              "      <td>701923.398</td>\n",
              "      <td>702256.082</td>\n",
              "      <td>1532693.208</td>\n",
              "      <td>13°51′34.83379″</td>\n",
              "      <td>100°52′06.23011″</td>\n",
              "      <td>13°51′28.86118″</td>\n",
              "      <td>100°52′18.18065″</td>\n",
              "    </tr>\n",
              "    <tr>\n",
              "      <th>1</th>\n",
              "      <td>GNSS610362</td>\n",
              "      <td>1532910.154</td>\n",
              "      <td>701854.806</td>\n",
              "      <td>702187.490</td>\n",
              "      <td>1532607.233</td>\n",
              "      <td>13°51′32.0541″</td>\n",
              "      <td>100°52′03.92375″</td>\n",
              "      <td>13°51′26.0813″</td>\n",
              "      <td>100°52′15.87396″</td>\n",
              "    </tr>\n",
              "    <tr>\n",
              "      <th>2</th>\n",
              "      <td>GPS_007</td>\n",
              "      <td>1676063.814</td>\n",
              "      <td>626858.214</td>\n",
              "      <td>627191.057</td>\n",
              "      <td>1675760.836</td>\n",
              "      <td>15°09′26.20829″</td>\n",
              "      <td>100°10′50.84164″</td>\n",
              "      <td>15°09′20.65008″</td>\n",
              "      <td>100°11′02.54581″</td>\n",
              "    </tr>\n",
              "    <tr>\n",
              "      <th>3</th>\n",
              "      <td>GPS_007A</td>\n",
              "      <td>1676172.766</td>\n",
              "      <td>626813.837</td>\n",
              "      <td>627146.680</td>\n",
              "      <td>1675869.788</td>\n",
              "      <td>15°09′29.76148″</td>\n",
              "      <td>100°10′49.37452″</td>\n",
              "      <td>15°09′24.20359″</td>\n",
              "      <td>100°11′01.07856″</td>\n",
              "    </tr>\n",
              "    <tr>\n",
              "      <th>4</th>\n",
              "      <td>GPS_610321</td>\n",
              "      <td>1548769.191</td>\n",
              "      <td>739940.719</td>\n",
              "      <td>740273.379</td>\n",
              "      <td>1548466.216</td>\n",
              "      <td>13°59′57.30767″</td>\n",
              "      <td>101°13′16.89968″</td>\n",
              "      <td>13°59′51.35788″</td>\n",
              "      <td>101°13′29.01819″</td>\n",
              "    </tr>\n",
              "    <tr>\n",
              "      <th>5</th>\n",
              "      <td>GPS_610322</td>\n",
              "      <td>1548518.447</td>\n",
              "      <td>739786.618</td>\n",
              "      <td>740119.278</td>\n",
              "      <td>1548215.473</td>\n",
              "      <td>13°59′49.19884″</td>\n",
              "      <td>101°13′11.68812″</td>\n",
              "      <td>13°59′43.24847″</td>\n",
              "      <td>101°13′23.80585″</td>\n",
              "    </tr>\n",
              "  </tbody>\n",
              "</table>\n",
              "</div>\n",
              "      <button class=\"colab-df-convert\" onclick=\"convertToInteractive('df-708c0294-1e09-4268-ba1e-5e67d6068907')\"\n",
              "              title=\"Convert this dataframe to an interactive table.\"\n",
              "              style=\"display:none;\">\n",
              "        \n",
              "  <svg xmlns=\"http://www.w3.org/2000/svg\" height=\"24px\"viewBox=\"0 0 24 24\"\n",
              "       width=\"24px\">\n",
              "    <path d=\"M0 0h24v24H0V0z\" fill=\"none\"/>\n",
              "    <path d=\"M18.56 5.44l.94 2.06.94-2.06 2.06-.94-2.06-.94-.94-2.06-.94 2.06-2.06.94zm-11 1L8.5 8.5l.94-2.06 2.06-.94-2.06-.94L8.5 2.5l-.94 2.06-2.06.94zm10 10l.94 2.06.94-2.06 2.06-.94-2.06-.94-.94-2.06-.94 2.06-2.06.94z\"/><path d=\"M17.41 7.96l-1.37-1.37c-.4-.4-.92-.59-1.43-.59-.52 0-1.04.2-1.43.59L10.3 9.45l-7.72 7.72c-.78.78-.78 2.05 0 2.83L4 21.41c.39.39.9.59 1.41.59.51 0 1.02-.2 1.41-.59l7.78-7.78 2.81-2.81c.8-.78.8-2.07 0-2.86zM5.41 20L4 18.59l7.72-7.72 1.47 1.35L5.41 20z\"/>\n",
              "  </svg>\n",
              "      </button>\n",
              "      \n",
              "  <style>\n",
              "    .colab-df-container {\n",
              "      display:flex;\n",
              "      flex-wrap:wrap;\n",
              "      gap: 12px;\n",
              "    }\n",
              "\n",
              "    .colab-df-convert {\n",
              "      background-color: #E8F0FE;\n",
              "      border: none;\n",
              "      border-radius: 50%;\n",
              "      cursor: pointer;\n",
              "      display: none;\n",
              "      fill: #1967D2;\n",
              "      height: 32px;\n",
              "      padding: 0 0 0 0;\n",
              "      width: 32px;\n",
              "    }\n",
              "\n",
              "    .colab-df-convert:hover {\n",
              "      background-color: #E2EBFA;\n",
              "      box-shadow: 0px 1px 2px rgba(60, 64, 67, 0.3), 0px 1px 3px 1px rgba(60, 64, 67, 0.15);\n",
              "      fill: #174EA6;\n",
              "    }\n",
              "\n",
              "    [theme=dark] .colab-df-convert {\n",
              "      background-color: #3B4455;\n",
              "      fill: #D2E3FC;\n",
              "    }\n",
              "\n",
              "    [theme=dark] .colab-df-convert:hover {\n",
              "      background-color: #434B5C;\n",
              "      box-shadow: 0px 1px 3px 1px rgba(0, 0, 0, 0.15);\n",
              "      filter: drop-shadow(0px 1px 2px rgba(0, 0, 0, 0.3));\n",
              "      fill: #FFFFFF;\n",
              "    }\n",
              "  </style>\n",
              "\n",
              "      <script>\n",
              "        const buttonEl =\n",
              "          document.querySelector('#df-708c0294-1e09-4268-ba1e-5e67d6068907 button.colab-df-convert');\n",
              "        buttonEl.style.display =\n",
              "          google.colab.kernel.accessAllowed ? 'block' : 'none';\n",
              "\n",
              "        async function convertToInteractive(key) {\n",
              "          const element = document.querySelector('#df-708c0294-1e09-4268-ba1e-5e67d6068907');\n",
              "          const dataTable =\n",
              "            await google.colab.kernel.invokeFunction('convertToInteractive',\n",
              "                                                     [key], {});\n",
              "          if (!dataTable) return;\n",
              "\n",
              "          const docLinkHtml = 'Like what you see? Visit the ' +\n",
              "            '<a target=\"_blank\" href=https://colab.research.google.com/notebooks/data_table.ipynb>data table notebook</a>'\n",
              "            + ' to learn more about interactive tables.';\n",
              "          element.innerHTML = '';\n",
              "          dataTable['output_type'] = 'display_data';\n",
              "          await google.colab.output.renderOutput(dataTable, element);\n",
              "          const docLink = document.createElement('div');\n",
              "          docLink.innerHTML = docLinkHtml;\n",
              "          element.appendChild(docLink);\n",
              "        }\n",
              "      </script>\n",
              "    </div>\n",
              "  </div>\n",
              "  "
            ]
          },
          "metadata": {},
          "execution_count": 52
        }
      ]
    }
  ]
}