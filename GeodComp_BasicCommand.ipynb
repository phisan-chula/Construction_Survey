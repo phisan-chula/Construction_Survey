{
  "nbformat": 4,
  "nbformat_minor": 0,
  "metadata": {
    "colab": {
      "provenance": [],
      "collapsed_sections": [],
      "authorship_tag": "ABX9TyPA2Jdw7SQFM4D4BSW/dJlO",
      "include_colab_link": true
    },
    "kernelspec": {
      "name": "python3",
      "display_name": "Python 3"
    },
    "language_info": {
      "name": "python"
    }
  },
  "cells": [
    {
      "cell_type": "markdown",
      "metadata": {
        "id": "view-in-github",
        "colab_type": "text"
      },
      "source": [
        "<a href=\"https://colab.research.google.com/github/phisan-chula/Construction_Survey/blob/main/GeodComp_BasicCommand.ipynb\" target=\"_parent\"><img src=\"https://colab.research.google.com/assets/colab-badge.svg\" alt=\"Open In Colab\"/></a>"
      ]
    },
    {
      "cell_type": "markdown",
      "metadata": {
        "id": "GcZMVz155-lG"
      },
      "source": [
        "**การใช้สคริปซ์ (script) ในการคำนวนงานรังวัดสำรวจ**<br>\n",
        "รศ.ดร.ไพศาล สันติธรรมนนท์<br>\n",
        "คณะวิศวกรรมศาสตร์ จุฬาลงกรณ์มหาวิทยาลัย<br>\n",
        "email : phisan.chula@gmail.com<br>\n",
        "<br>\n",
        "การใช้คำสั่ง GeographicLib ผ่าน Colab VM<br>\n",
        "ลักษณะเดียวกันผู้ใช้สามารถติดตั้ง GeographicLib บนวินโดว์ แม็คบุค <br>\n",
        "https://sourceforge.net/projects/geographiclib/files/distrib/\n",
        "\n"
      ]
    },
    {
      "cell_type": "markdown",
      "metadata": {
        "id": "vfCWQnq_6Y9J"
      },
      "source": [
        "#**1) การแปลงปริมาณมุม Decimail Degree (DD) ไปเป็น Deg-Min-Sec (DMS) และแปลงกลับ**\n",
        "\n"
      ]
    },
    {
      "cell_type": "code",
      "metadata": {
        "id": "dmTTWOPKNVxF"
      },
      "source": [
        "%%capture\n",
        "! pip install PyGeodesy\n",
        "! apt-get install geographiclib-tools"
      ],
      "execution_count": 6,
      "outputs": []
    },
    {
      "cell_type": "code",
      "metadata": {
        "colab": {
          "base_uri": "https://localhost:8080/"
        },
        "id": "_f9KFrcXNaHI",
        "outputId": "81afc3d3-13d9-4407-f3a5-d11d4adf50cf"
      },
      "source": [
        "from pygeodesy import dms\n",
        "\n",
        "print( dms.toDMS( 120.4567890123 , prec=9 ) )\n",
        "\n",
        "print(  dms.parseDMS( '   120°27′24.44044428″  ' ) )\n",
        "print( dms.parseDMS( '   120:27:24.44044428  ', sep=':' ) )"
      ],
      "execution_count": 7,
      "outputs": [
        {
          "output_type": "stream",
          "name": "stdout",
          "text": [
            "120°27′24.44044428″\n",
            "120.4567890123\n",
            "120.4567890123\n"
          ]
        }
      ]
    },
    {
      "cell_type": "markdown",
      "metadata": {
        "id": "OORUGM77NMEF"
      },
      "source": [
        "#**2)  การแปลงระบบพิกัด ECEF (XYZ) และพิกัดยีออเดติกซ์ ( ϕ λ h )** "
      ]
    },
    {
      "cell_type": "code",
      "metadata": {
        "colab": {
          "base_uri": "https://localhost:8080/"
        },
        "id": "20bD8VgiDRpi",
        "outputId": "4af36373-dba8-4fd1-d695-166c35239aec"
      },
      "source": [
        "! CartConvert --input-string \"14.0000 100.0000 10.000\""
      ],
      "execution_count": 8,
      "outputs": [
        {
          "output_type": "stream",
          "name": "stdout",
          "text": [
            "-1074865.112613 6095862.971702 1532984.248725\n"
          ]
        }
      ]
    },
    {
      "cell_type": "code",
      "metadata": {
        "colab": {
          "base_uri": "https://localhost:8080/"
        },
        "id": "bjasPM4MuODU",
        "outputId": "e868ac51-f559-42c0-8ad8-237741d57970"
      },
      "source": [
        "! CartConvert -r --input-string \"-1074865.112613 6095862.971702 1532984.248725\""
      ],
      "execution_count": 9,
      "outputs": [
        {
          "output_type": "stream",
          "name": "stdout",
          "text": [
            "14.00000000000 100.00000000000 10.000000\n"
          ]
        }
      ]
    },
    {
      "cell_type": "markdown",
      "source": [
        "#**3) การแปลงผลต่างค่าพิกัด ECEF(XYZ)1 ไปยัง ECEF(XYZ)2 ไปสู่ระบบพิกัดท้องถิ่น East-North-Up (ENU)**"
      ],
      "metadata": {
        "id": "ZkfJnV401o67"
      }
    },
    {
      "cell_type": "code",
      "source": [
        "! CartConvert -l 14.00000   100.00000 10.000     --input-string \"14.0001   100.0002   10.300\"\n",
        "! CartConvert -l 14:00:00    100:00:00   10.000   --input-string \"14:00:00.1    100:00:00.2    10.300 \""
      ],
      "metadata": {
        "colab": {
          "base_uri": "https://localhost:8080/"
        },
        "id": "Exkoe_o11-JN",
        "outputId": "22d892a1-4522-47f6-ae4d-a6f34e057960"
      },
      "execution_count": 10,
      "outputs": [
        {
          "output_type": "stream",
          "name": "stdout",
          "text": [
            "21.606824 11.063956 0.299954\n",
            "6.001897 3.073319 0.299996\n"
          ]
        }
      ]
    },
    {
      "cell_type": "markdown",
      "metadata": {
        "id": "H4W1OAUtwXGt"
      },
      "source": [
        "#**4) การแปลงค่าพิกัดในระบบยูทีเอ็ม <br>**\n",
        "ออฟชั่น -p 9   แสดงทศนิยม 9 ตำแหน่ง<br>\n",
        "ออฟชั่น -c   คำนวณ meridian convergence และ scale factor<br>"
      ]
    },
    {
      "cell_type": "code",
      "metadata": {
        "colab": {
          "base_uri": "https://localhost:8080/"
        },
        "id": "LCXjZm4aviv8",
        "outputId": "5d2ad3d1-2fc8-4710-b3b5-8e9c453288fd"
      },
      "source": [
        "! GeoConvert  -p 9  --input-string \"47N 500000  1500000\"\n",
        "! GeoConvert  -: -p 6   --input-string \"47N 500000  1500000\"\n"
      ],
      "execution_count": 11,
      "outputs": [
        {
          "output_type": "stream",
          "name": "stdout",
          "text": [
            "13.56845127846726 99.00000000000000\n",
            "13:34:06.4246025N 099:00:00.0000000E\n"
          ]
        }
      ]
    },
    {
      "cell_type": "code",
      "metadata": {
        "colab": {
          "base_uri": "https://localhost:8080/"
        },
        "id": "2OVrvRt79K4J",
        "outputId": "61ae04eb-5d43-41c2-c490-ed94a53716dd"
      },
      "source": [
        "! GeoConvert -u -p 3 --input-string \"13.56845127846726 99.00000000000000\"\n",
        "! GeoConvert -u  -p 3 --input-string \"13:34:06.4246025N 099:00:00.0000000E\""
      ],
      "execution_count": 12,
      "outputs": [
        {
          "output_type": "stream",
          "name": "stdout",
          "text": [
            "47n 500000.000 1500000.000\n",
            "47n 500000.000 1500000.000\n"
          ]
        }
      ]
    },
    {
      "cell_type": "code",
      "metadata": {
        "colab": {
          "base_uri": "https://localhost:8080/"
        },
        "id": "PYkzdFkL-FBY",
        "outputId": "baa2161f-32d0-45d2-b9f5-9b4a1385660c"
      },
      "source": [
        "! GeoConvert  -c   --input-string \"47N 500000  1500000\"\n",
        "! GeoConvert  -c   --input-string \"13:34:06.4246025N 099:00:00.0000000E\""
      ],
      "execution_count": 13,
      "outputs": [
        {
          "output_type": "stream",
          "name": "stdout",
          "text": [
            "0.00000 0.9996000\n",
            "0.00000 0.9996000\n"
          ]
        }
      ]
    },
    {
      "cell_type": "markdown",
      "metadata": {
        "id": "iTBvX0TS_6xD"
      },
      "source": [
        "#**4) การแปลงค่าพิกัด Military Grud Referece System**<br>\n",
        "ระบบพิกัดมีความยืดหยุ่นปรับความละเอียดเชิงพื้นที่ได้<br>\n",
        "กำหนดใช้ในการระบุพืนที่การปกครอง ของ กรมการปกครอง<br>\n",
        "อ้างอิง  https://en.wikipedia.org/wiki/Military_Grid_Reference_System<br>"
      ]
    },
    {
      "cell_type": "code",
      "metadata": {
        "colab": {
          "base_uri": "https://localhost:8080/"
        },
        "id": "Ke1ZXHmkAYnd",
        "outputId": "3e3937c1-80cf-4351-92f1-27780474763a"
      },
      "source": [
        "! GeoConvert -m  -p -3  --input-string \"47N 500000  1500000\"\n",
        "! GeoConvert -m  -p 0   --input-string \"47N 500000  1500000\"\n",
        "! GeoConvert -m  -p +1   --input-string \"47N 500000  1500000\""
      ],
      "execution_count": 14,
      "outputs": [
        {
          "output_type": "stream",
          "name": "stdout",
          "text": [
            "47PNR0000\n",
            "47PNR0000000000\n",
            "47PNR000000000000\n"
          ]
        }
      ]
    },
    {
      "cell_type": "markdown",
      "metadata": {
        "id": "_EAxkdplEB34"
      },
      "source": [
        "# **5) การคำนวนเส้น ยีออเดซิก (geodetic line)**<br>\n",
        "*ปัญหาคำนวนทางตรง (direct problem)* <br>\n",
        "มีค่าพิกัด phi1, lam1 , faz1, s12<br>\n",
        "*ปัญหาคำนวนย้อน  (indirect/ inverse problem)*<br>\n",
        "มึค่าพิกัด phi1,lam1, phi2,lam2<br>\n",
        "ต้องการหา  faz1, faz2, s12<b4>\n"
      ]
    },
    {
      "cell_type": "code",
      "metadata": {
        "colab": {
          "base_uri": "https://localhost:8080/"
        },
        "id": "gKmPaICNEOm9",
        "outputId": "7fea8647-f374-4ada-9062-2d8ab84f1d87"
      },
      "source": [
        "! GeodSolve -i --input-string \"14.00000N 100.00000E 15.00000000N 101.0000000E\"\n",
        "! GeodSolve -i --input-string \"14:00:00.00000 100:00:00.0000 15:00:00.00000 101:00:00.000000\""
      ],
      "execution_count": 15,
      "outputs": [
        {
          "output_type": "stream",
          "name": "stdout",
          "text": [
            "44.12901926 44.37941483 154472.518\n",
            "44.12901926 44.37941483 154472.518\n"
          ]
        }
      ]
    },
    {
      "cell_type": "code",
      "metadata": {
        "colab": {
          "base_uri": "https://localhost:8080/"
        },
        "id": "U51C4Uj-FyQS",
        "outputId": "20b05c71-2dca-4eef-b0be-8d6849fbfa5e"
      },
      "source": [
        "! GeodSolve -i  -d --input-string \"14.00000N 100.00000E 15.00000000N 101.0000000E\"\n",
        "! GeodSolve -i  -d  --input-string \"14:00:00.00000 100:00:00.0000 15:00:00.00000 101:00:00.000000\""
      ],
      "execution_count": 16,
      "outputs": [
        {
          "output_type": "stream",
          "name": "stdout",
          "text": [
            "044d07'44.4693\" 044d22'45.8934\" 154472.518\n",
            "044d07'44.4693\" 044d22'45.8934\" 154472.518\n"
          ]
        }
      ]
    },
    {
      "cell_type": "code",
      "source": [],
      "metadata": {
        "id": "scUnVRABAXGx"
      },
      "execution_count": 16,
      "outputs": []
    },
    {
      "cell_type": "markdown",
      "metadata": {
        "id": "HnAaAWxyCPiy"
      },
      "source": [
        "#**6)  การแปลงค่าระดับจาก Orthometric Height ไปมาสู่ Ellipsoidal Height**<br>\n",
        "แบบจำลอง TGM2017 สามารถติดตั้งได้ บนเครื่อง PC ส่วนตน</br>\n",
        "hae = height above ellipsoid</br>\n",
        "msl = mean sea level (orthometric height)"
      ]
    },
    {
      "cell_type": "code",
      "metadata": {
        "id": "emkJ2Pr9BqSO"
      },
      "source": [
        "%%capture\n",
        "from google.colab import drive\n",
        "drive.mount('/content/drive')\n",
        "! apt-get install geographiclib-tools\n",
        "! mkdir -p /usr/share/GeographicLib/geoids\n",
        "! cp /content/drive/MyDrive/Geodesy_Cache/tgm2017-1.pgm   /usr/share/GeographicLib/geoids/tgm2017-1.pgm"
      ],
      "execution_count": 17,
      "outputs": []
    },
    {
      "cell_type": "code",
      "metadata": {
        "colab": {
          "base_uri": "https://localhost:8080/"
        },
        "id": "8bQGyNJ2OaH0",
        "outputId": "9c967acd-dc4d-42f6-fd06-fd715735d7db"
      },
      "source": [
        "! GeoidEval -n tgm2017-1 --input-string \"14 100\"\n",
        "! GeoidEval -n tgm2017-1 --msltohae  --input-string \"14 100  1.5\"\n",
        "! GeoidEval -n tgm2017-1 --haetomsl  --input-string \"14 100  -30.7867\""
      ],
      "execution_count": 18,
      "outputs": [
        {
          "output_type": "stream",
          "name": "stdout",
          "text": [
            "-32.2897\n",
            "14 100  -30.7897\n",
            "14 100  1.5030\n"
          ]
        }
      ]
    },
    {
      "cell_type": "code",
      "source": [
        "! GeoidEval -n tgm2017-1 --input-string \"47N 500000 1500000\""
      ],
      "metadata": {
        "colab": {
          "base_uri": "https://localhost:8080/"
        },
        "id": "fNF7zVbH4RjO",
        "outputId": "0fed002d-5746-40ce-bf98-5438afdf9aa4"
      },
      "execution_count": 19,
      "outputs": [
        {
          "output_type": "stream",
          "name": "stdout",
          "text": [
            "-33.2920\n"
          ]
        }
      ]
    },
    {
      "cell_type": "markdown",
      "source": [
        "#**7) รัศมีโลกบนพื้นผิวทรงรีชนิดต่างๆ**<br>"
      ],
      "metadata": {
        "id": "XPb9nlweAqLi"
      }
    },
    {
      "cell_type": "code",
      "source": [
        "import pygeodesy as pgd\n",
        "\n",
        "print( pgd.Ellipsoids.GRS80.toStr() )\n",
        "print( pgd.Ellipsoids.WGS84.toStr() )\n",
        "\n",
        "print( pgd.Ellipsoids.WGS84.rocPrimeVertical(lat=45) )\n",
        "print( pgd.Ellipsoids.WGS84.rocMeridional(lat=45)  )\n",
        "print( pgd.Ellipsoids.WGS84.rocGauss(lat=45)  )\n",
        "print( pgd.Ellipsoids.WGS84.rocBearing( 45, 10 )  )   # at latitude , azimut 0...360"
      ],
      "metadata": {
        "colab": {
          "base_uri": "https://localhost:8080/"
        },
        "id": "qqF576jSAoLb",
        "outputId": "e919bba4-2f2d-4b5f-dcb6-220c9948b1c0"
      },
      "execution_count": 26,
      "outputs": [
        {
          "output_type": "stream",
          "name": "stdout",
          "text": [
            "name='GRS80', a=6378137, b=6356752.31414035, f_=298.2572221, f=0.00335281, f2=0.00336409, n=0.00167922, e=0.08181919, e2=0.00669438, e22=0.0067395, e32=0.00335843, A=6367449.14577104, L=10001965.72923046, R1=6371008.77138012, R2=6371007.18088351, R3=6371000.78997414, Rbiaxial=6367453.634464, Rtriaxial=6372797.55593326\n",
            "name='WGS84', a=6378137, b=6356752.31424518, f_=298.25722356, f=0.00335281, f2=0.00336409, n=0.00167922, e=0.08181919, e2=0.00669438, e22=0.0067395, e32=0.00335843, A=6367449.14582341, L=10001965.72931272, R1=6371008.77141506, R2=6371007.18091847, R3=6371000.79000916, Rbiaxial=6367453.63451633, Rtriaxial=6372797.5559594\n",
            "6388838.290121148\n",
            "6367381.815619549\n",
            "6378101.030201018\n",
            "6368026.699920825\n"
          ]
        }
      ]
    }
  ]
}