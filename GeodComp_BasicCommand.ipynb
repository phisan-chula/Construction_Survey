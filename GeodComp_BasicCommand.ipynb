{
  "nbformat": 4,
  "nbformat_minor": 0,
  "metadata": {
    "colab": {
      "provenance": [],
      "collapsed_sections": [],
      "authorship_tag": "ABX9TyOU4cAU0XsWJsvyJxBUfwGW",
      "include_colab_link": true
    },
    "kernelspec": {
      "name": "python3",
      "display_name": "Python 3"
    },
    "language_info": {
      "name": "python"
    }
  },
  "cells": [
    {
      "cell_type": "markdown",
      "metadata": {
        "id": "view-in-github",
        "colab_type": "text"
      },
      "source": [
        "<a href=\"https://colab.research.google.com/github/phisan-chula/Construction_Survey/blob/main/GeodComp_BasicCommand.ipynb\" target=\"_parent\"><img src=\"https://colab.research.google.com/assets/colab-badge.svg\" alt=\"Open In Colab\"/></a>"
      ]
    },
    {
      "cell_type": "markdown",
      "metadata": {
        "id": "GcZMVz155-lG"
      },
      "source": [
        "**การใช้สคริปซ์ (script) ในการคำนวนงานรังวัดสำรวจ**<br>\n",
        "รศ.ดร.ไพศาล สันติธรรมนนท์<br>\n",
        "คณะวิศวกรรมศาสตร์ จุฬาลงกรณ์มหาวิทยาลัย<br>\n",
        "email : phisan.chula@gmail.com<br>\n",
        "<br>\n",
        "การใช้คำสั่ง GeographicLib ผ่าน Colab VM<br>\n",
        "ลักษณะเดียวกันผู้ใช้สามารถติดตั้ง GeographicLib บนวินโดว์ แม็คบุค <br>\n",
        "https://sourceforge.net/projects/geographiclib/files/distrib/\n",
        "\n"
      ]
    },
    {
      "cell_type": "markdown",
      "metadata": {
        "id": "vfCWQnq_6Y9J"
      },
      "source": [
        "#**1) การแปลงปริมาณมุม Decimail Degree (DD) ไปเป็น Deg-Min-Sec (DMS) และแปลงกลับ**\n",
        "\n"
      ]
    },
    {
      "cell_type": "code",
      "metadata": {
        "id": "dmTTWOPKNVxF",
        "colab": {
          "base_uri": "https://localhost:8080/"
        },
        "outputId": "a3a6ebcc-e5c8-45e9-b50e-877122d976b1"
      },
      "source": [
        "#%%capture\n",
        "! apt-get install geographiclib-tools\n",
        "! pip install PyGeodesy\n",
        "! pip install pyproj"
      ],
      "execution_count": 12,
      "outputs": [
        {
          "output_type": "stream",
          "name": "stdout",
          "text": [
            "Reading package lists... Done\n",
            "Building dependency tree       \n",
            "Reading state information... Done\n",
            "geographiclib-tools is already the newest version (1.49-2).\n",
            "The following package was automatically installed and is no longer required:\n",
            "  libnvidia-common-460\n",
            "Use 'apt autoremove' to remove it.\n",
            "0 upgraded, 0 newly installed, 0 to remove and 27 not upgraded.\n",
            "Looking in indexes: https://pypi.org/simple, https://us-python.pkg.dev/colab-wheels/public/simple/\n",
            "Requirement already satisfied: PyGeodesy in /usr/local/lib/python3.7/dist-packages (22.10.22)\n",
            "Looking in indexes: https://pypi.org/simple, https://us-python.pkg.dev/colab-wheels/public/simple/\n",
            "Requirement already satisfied: pyproj in /usr/local/lib/python3.7/dist-packages (3.2.1)\n",
            "Requirement already satisfied: certifi in /usr/local/lib/python3.7/dist-packages (from pyproj) (2022.9.24)\n"
          ]
        }
      ]
    },
    {
      "cell_type": "code",
      "metadata": {
        "colab": {
          "base_uri": "https://localhost:8080/"
        },
        "id": "_f9KFrcXNaHI",
        "outputId": "937f2a05-0d84-45e6-dbe4-19e96d3e5ed2"
      },
      "source": [
        "from pygeodesy import dms\n",
        "\n",
        "print( dms.toDMS( 120.4567890123 , prec=9 ) )\n",
        "\n",
        "print(  dms.parseDMS( '   120°27′24.44044428″  ' ) )\n",
        "print( dms.parseDMS( '   120:27:24.44044428  ', sep=':' ) )"
      ],
      "execution_count": 13,
      "outputs": [
        {
          "output_type": "stream",
          "name": "stdout",
          "text": [
            "120°27′24.44044428″\n",
            "120.4567890123\n",
            "120.4567890123\n"
          ]
        }
      ]
    },
    {
      "cell_type": "markdown",
      "metadata": {
        "id": "OORUGM77NMEF"
      },
      "source": [
        "#**2)  การแปลงระบบพิกัด ECEF (XYZ) และพิกัดยีออเดติกซ์ ( ϕ λ h )** "
      ]
    },
    {
      "cell_type": "code",
      "metadata": {
        "colab": {
          "base_uri": "https://localhost:8080/"
        },
        "id": "20bD8VgiDRpi",
        "outputId": "3944241e-54fe-4042-b855-01a4b062c6ae"
      },
      "source": [
        "! CartConvert --input-string \"14.0000 100.0000 10.000\""
      ],
      "execution_count": 14,
      "outputs": [
        {
          "output_type": "stream",
          "name": "stdout",
          "text": [
            "-1074865.112613 6095862.971702 1532984.248725\n"
          ]
        }
      ]
    },
    {
      "cell_type": "code",
      "metadata": {
        "colab": {
          "base_uri": "https://localhost:8080/"
        },
        "id": "bjasPM4MuODU",
        "outputId": "32e466c7-a813-47af-8d46-28209400b035"
      },
      "source": [
        "! CartConvert -r --input-string \"-1074865.112613 6095862.971702 1532984.248725\""
      ],
      "execution_count": 15,
      "outputs": [
        {
          "output_type": "stream",
          "name": "stdout",
          "text": [
            "14.00000000000 100.00000000000 10.000000\n"
          ]
        }
      ]
    },
    {
      "cell_type": "markdown",
      "source": [
        "#**3) การแปลงผลต่างค่าพิกัด ECEF(XYZ)1 ไปยัง ECEF(XYZ)2 ไปสู่ระบบพิกัดท้องถิ่น East-North-Up (ENU)**"
      ],
      "metadata": {
        "id": "ZkfJnV401o67"
      }
    },
    {
      "cell_type": "code",
      "source": [
        "! CartConvert -l 14.00000   100.00000 10.000     --input-string \"14.0001   100.0002   10.300\"\n",
        "! CartConvert -l 14:00:00    100:00:00   10.000   --input-string \"14:00:00.1    100:00:00.2    10.300 \""
      ],
      "metadata": {
        "colab": {
          "base_uri": "https://localhost:8080/"
        },
        "id": "Exkoe_o11-JN",
        "outputId": "be456d1d-c35c-4d11-8307-592bc128c359"
      },
      "execution_count": 16,
      "outputs": [
        {
          "output_type": "stream",
          "name": "stdout",
          "text": [
            "21.606824 11.063956 0.299954\n",
            "6.001897 3.073319 0.299996\n"
          ]
        }
      ]
    },
    {
      "cell_type": "markdown",
      "metadata": {
        "id": "H4W1OAUtwXGt"
      },
      "source": [
        "#**4) การแปลงค่าพิกัดในระบบยูทีเอ็ม <br>**\n",
        "ออฟชั่น -p 9   แสดงทศนิยม 9 ตำแหน่ง<br>\n",
        "ออฟชั่น -c   คำนวณ meridian convergence และ scale factor<br>"
      ]
    },
    {
      "cell_type": "code",
      "metadata": {
        "colab": {
          "base_uri": "https://localhost:8080/"
        },
        "id": "LCXjZm4aviv8",
        "outputId": "c022c6f6-309a-44e6-eaa5-0ab1c97839c7"
      },
      "source": [
        "! GeoConvert  -p 9  --input-string \"47N 500000  1500000\"\n",
        "! GeoConvert  -: -p 6   --input-string \"47N 500000  1500000\"\n"
      ],
      "execution_count": 17,
      "outputs": [
        {
          "output_type": "stream",
          "name": "stdout",
          "text": [
            "13.56845127846726 99.00000000000000\n",
            "13:34:06.4246025N 099:00:00.0000000E\n"
          ]
        }
      ]
    },
    {
      "cell_type": "code",
      "metadata": {
        "colab": {
          "base_uri": "https://localhost:8080/"
        },
        "id": "2OVrvRt79K4J",
        "outputId": "9a62445b-dcd2-43b4-c10f-217cfe9ff5f4"
      },
      "source": [
        "! GeoConvert -u -p 3 --input-string \"13.56845127846726 99.00000000000000\"\n",
        "! GeoConvert -u  -p 3 --input-string \"13:34:06.4246025N 099:00:00.0000000E\"\n",
        "! GeoConvert -u  -p 3 --input-string \"13.738403574697129, 100.5320703868256\""
      ],
      "execution_count": 18,
      "outputs": [
        {
          "output_type": "stream",
          "name": "stdout",
          "text": [
            "47n 500000.000 1500000.000\n",
            "47n 500000.000 1500000.000\n",
            "47n 665652.544 1519321.421\n"
          ]
        }
      ]
    },
    {
      "cell_type": "code",
      "metadata": {
        "colab": {
          "base_uri": "https://localhost:8080/"
        },
        "id": "PYkzdFkL-FBY",
        "outputId": "5676a2d7-0ade-4c51-c9a3-5d1846a74fb7"
      },
      "source": [
        "! GeoConvert  -c   --input-string \"47N 500000  1500000\"\n",
        "! GeoConvert  -c   --input-string \"13:34:06.4246025N 099:00:00.0000000E\""
      ],
      "execution_count": 19,
      "outputs": [
        {
          "output_type": "stream",
          "name": "stdout",
          "text": [
            "0.00000 0.9996000\n",
            "0.00000 0.9996000\n"
          ]
        }
      ]
    },
    {
      "cell_type": "markdown",
      "metadata": {
        "id": "iTBvX0TS_6xD"
      },
      "source": [
        "#**4) การแปลงค่าพิกัด Military Grid Referece System**<br>\n",
        "\n",
        "---\n",
        "\n",
        "\n",
        "ระบบพิกัดมีความยืดหยุ่นปรับความละเอียดเชิงพื้นที่ได้<br>\n",
        "กำหนดใช้ในการระบุพืนที่การปกครอง ของ กรมการปกครอง<br>\n",
        "อ้างอิง  https://en.wikipedia.org/wiki/Military_Grid_Reference_System<br>"
      ]
    },
    {
      "cell_type": "code",
      "metadata": {
        "colab": {
          "base_uri": "https://localhost:8080/"
        },
        "id": "Ke1ZXHmkAYnd",
        "outputId": "87475ceb-81c6-44e6-8b3c-d4afe4ea8cd0"
      },
      "source": [
        "! GeoConvert -m  -p -3  --input-string \"47N 500000  1500000\"\n",
        "! GeoConvert -m  -p 0   --input-string \"47N 500000  1500000\"\n",
        "! GeoConvert -m  -p +1   --input-string \"47N 500000  1500000\""
      ],
      "execution_count": 20,
      "outputs": [
        {
          "output_type": "stream",
          "name": "stdout",
          "text": [
            "47PNR0000\n",
            "47PNR0000000000\n",
            "47PNR000000000000\n"
          ]
        }
      ]
    },
    {
      "cell_type": "markdown",
      "metadata": {
        "id": "_EAxkdplEB34"
      },
      "source": [
        "# **5) การคำนวนเส้น ยีออเดซิก (geodetic line)**<br>\n",
        "*ปัญหาคำนวนทางตรง (direct problem)* <br>\n",
        "มีค่าพิกัด phi1, lam1 , faz1, s12<br>\n",
        "*ปัญหาคำนวนย้อน  (indirect/ inverse problem)*<br>\n",
        "มึค่าพิกัด phi1,lam1, phi2,lam2<br>\n",
        "ต้องการหา  faz1, faz2, s12<b4>\n"
      ]
    },
    {
      "cell_type": "code",
      "metadata": {
        "colab": {
          "base_uri": "https://localhost:8080/"
        },
        "id": "gKmPaICNEOm9",
        "outputId": "936adf54-41e3-4731-875e-8b67e0a4bf0d"
      },
      "source": [
        "! GeodSolve -i --input-string \"14.00000N 100.00000E 15.00000000N 101.0000000E\"\n",
        "! GeodSolve -i --input-string \"14:00:00.00000 100:00:00.0000 15:00:00.00000 101:00:00.000000\""
      ],
      "execution_count": 21,
      "outputs": [
        {
          "output_type": "stream",
          "name": "stdout",
          "text": [
            "44.12901926 44.37941483 154472.518\n",
            "44.12901926 44.37941483 154472.518\n"
          ]
        }
      ]
    },
    {
      "cell_type": "code",
      "metadata": {
        "colab": {
          "base_uri": "https://localhost:8080/"
        },
        "id": "U51C4Uj-FyQS",
        "outputId": "5551b9e9-6b4e-43e0-8942-90d9930f7d12"
      },
      "source": [
        "! GeodSolve -i  -d --input-string \"14.00000N 100.00000E 15.00000000N 101.0000000E\"\n",
        "! GeodSolve -i  -d  --input-string \"14:00:00.00000 100:00:00.0000 15:00:00.00000 101:00:00.000000\""
      ],
      "execution_count": 22,
      "outputs": [
        {
          "output_type": "stream",
          "name": "stdout",
          "text": [
            "044d07'44.4693\" 044d22'45.8934\" 154472.518\n",
            "044d07'44.4693\" 044d22'45.8934\" 154472.518\n"
          ]
        }
      ]
    },
    {
      "cell_type": "markdown",
      "metadata": {
        "id": "HnAaAWxyCPiy"
      },
      "source": [
        "#**6)  การแปลงค่าระดับจาก Orthometric Height ไปมาสู่ Ellipsoidal Height**<br>\n",
        "แบบจำลอง TGM2017 สามารถติดตั้งได้ บนเครื่อง PC ส่วนตน</br>\n",
        "hae = height above ellipsoid</br>\n",
        "msl = mean sea level (orthometric height)"
      ]
    },
    {
      "cell_type": "code",
      "metadata": {
        "id": "emkJ2Pr9BqSO"
      },
      "source": [
        "%%capture\n",
        "from google.colab import drive\n",
        "drive.mount('/content/drive')\n",
        "! apt-get install geographiclib-tools\n",
        "! mkdir -p /usr/share/GeographicLib/geoids\n",
        "! cp /content/drive/MyDrive/Geodesy_Cache/tgm2017-1.pgm   /usr/share/GeographicLib/geoids/tgm2017-1.pgm"
      ],
      "execution_count": 23,
      "outputs": []
    },
    {
      "cell_type": "code",
      "metadata": {
        "colab": {
          "base_uri": "https://localhost:8080/"
        },
        "id": "8bQGyNJ2OaH0",
        "outputId": "b9b78bec-cc37-4fb8-e4b7-72c03f93d44a"
      },
      "source": [
        "! GeoidEval -n tgm2017-1 --input-string \"14 100\"\n",
        "! GeoidEval -n tgm2017-1 --msltohae  --input-string \"14 100  1.5\"\n",
        "! GeoidEval -n tgm2017-1 --haetomsl  --input-string \"14 100  -30.7867\""
      ],
      "execution_count": 24,
      "outputs": [
        {
          "output_type": "stream",
          "name": "stdout",
          "text": [
            "-32.2897\n",
            "14 100  -30.7897\n",
            "14 100  1.5030\n"
          ]
        }
      ]
    },
    {
      "cell_type": "code",
      "source": [
        "! GeoidEval -n tgm2017-1 --input-string \"47n 665652.544 1519321.421\"\n",
        "! GeoidEval -n tgm2017-1  --msltohae  --input-string \"47n 665652.544 1519321.421  1.500\"\n",
        "! GeoidEval -n tgm2017-1  --haetomsl  --input-string \"47n 665652.544 1519321.421  -28.9537\""
      ],
      "metadata": {
        "colab": {
          "base_uri": "https://localhost:8080/"
        },
        "id": "fNF7zVbH4RjO",
        "outputId": "6313bf81-5db9-4f5f-ec47-f9fc6d725a06"
      },
      "execution_count": 25,
      "outputs": [
        {
          "output_type": "stream",
          "name": "stdout",
          "text": [
            "-30.4537\n",
            "47n 665652.544 1519321.421  -28.9537\n",
            "47n 665652.544 1519321.421  1.5000\n"
          ]
        }
      ]
    },
    {
      "cell_type": "markdown",
      "source": [
        "#**8) การคำนวน ปัญหาไปข้างหน้า และ ปัญหาย้อนกลับ**<br>"
      ],
      "metadata": {
        "id": "vaEwtY6EiffL"
      }
    },
    {
      "cell_type": "code",
      "source": [
        "from pyproj import Geod\n",
        "g = Geod(ellps='WGS84')\n",
        "DMK = [13.9255,100.5923] ; BKK = [13.6900,100.7501]\n",
        "az12, az21, dist = g.inv( DMK[1],DMK[0], BKK[1], BKK[0] )\n",
        "print( 'Azimuth DMK->BKK :',dms.toDMS( az12 , prec=2 ) )\n",
        "print( 'Azimuth BKK->DMK :',dms.toDMS( az21 , prec=2 ) )\n",
        "print( f'Distance : {dist:.3f} meter.')\n",
        "#########################################################\n",
        "endllon, endlat, backaz = g.fwd(  DMK[1],DMK[0], az12, dist )\n",
        "backaz = dms.toDMS( backaz , prec=2 )\n",
        "print( f'Calculatin BKK : lat={endlat:.4f} lon={endllon:.4f} , az={backaz} ')"
      ],
      "metadata": {
        "colab": {
          "base_uri": "https://localhost:8080/"
        },
        "id": "0E3I5BQcieDa",
        "outputId": "d2149f4d-2bcf-4af0-8cd8-45184b60e9b9"
      },
      "execution_count": 42,
      "outputs": [
        {
          "output_type": "stream",
          "name": "stdout",
          "text": [
            "Azimuth DMK->BKK : 146°45′46.51″\n",
            "Azimuth BKK->DMK : -33°11′57.91″\n",
            "Distance : 31144.445 meter.\n",
            "Calculatin BKK : lat=13.6900 lon=100.7501 , az=-33°11′57.91″ \n"
          ]
        }
      ]
    },
    {
      "cell_type": "markdown",
      "source": [
        "#**9) พื้นที่ยีออเดซิกส์**<br>"
      ],
      "metadata": {
        "id": "S1uA-mDvoNYT"
      }
    },
    {
      "cell_type": "code",
      "source": [
        "from shapely import wkt\n",
        "from pyproj import Geod\n",
        "g = Geod(ellps='WGS84')\n",
        "WKT = \"POLYGON ((100.538464 13.734464, 100.5365113 13.7295864, 100.544515 13.7262929, 100.5459527 13.7340888, 100.538464 13.734464))\"\n",
        "poly = wkt.loads(WKT)\n",
        "poly"
      ],
      "metadata": {
        "id": "neASu-JCoI0d",
        "outputId": "a6a9a422-5719-43a4-b61d-08aca22bcb27",
        "colab": {
          "base_uri": "https://localhost:8080/",
          "height": 122
        }
      },
      "execution_count": 50,
      "outputs": [
        {
          "output_type": "execute_result",
          "data": {
            "text/plain": [
              "<shapely.geometry.polygon.Polygon at 0x7f027ebb87d0>"
            ],
            "image/svg+xml": "<svg xmlns=\"http://www.w3.org/2000/svg\" xmlns:xlink=\"http://www.w3.org/1999/xlink\" width=\"100.0\" height=\"100.0\" viewBox=\"100.536133644 13.725915244000001 0.0101967119999955 0.008926411999997441\" preserveAspectRatio=\"xMinYMin meet\"><g transform=\"matrix(1,0,0,-1,0,27.4607569)\"><path fill-rule=\"evenodd\" fill=\"#66cc99\" stroke=\"#555555\" stroke-width=\"0.00020393423999991002\" opacity=\"0.6\" d=\"M 100.538464,13.734464 L 100.5365113,13.7295864 L 100.544515,13.7262929 L 100.5459527,13.7340888 L 100.538464,13.734464 z\" /></g></svg>"
          },
          "metadata": {},
          "execution_count": 50
        }
      ]
    },
    {
      "cell_type": "code",
      "source": [
        "area,peri = g.geometry_area_perimeter( poly )\n",
        "print( f'geodetic area = {area:,.1f} sq.m')"
      ],
      "metadata": {
        "id": "8yHmQUy_pTR8",
        "outputId": "2119fae5-9102-4792-c2a9-0c2f49e99101",
        "colab": {
          "base_uri": "https://localhost:8080/"
        }
      },
      "execution_count": 56,
      "outputs": [
        {
          "output_type": "stream",
          "name": "stdout",
          "text": [
            "geodetic area = 624,584.3 sq.m\n"
          ]
        }
      ]
    },
    {
      "cell_type": "markdown",
      "source": [
        "#**10) รัศมีโลกบนพื้นผิวทรงรีชนิดต่างๆ**<br>"
      ],
      "metadata": {
        "id": "XPb9nlweAqLi"
      }
    },
    {
      "cell_type": "code",
      "source": [
        "import pygeodesy as pgd\n",
        "\n",
        "print( pgd.Ellipsoids.GRS80.toStr() )\n",
        "print( pgd.Ellipsoids.WGS84.toStr() )\n",
        "\n",
        "print( pgd.Ellipsoids.WGS84.rocPrimeVertical(lat=45) )\n",
        "print( pgd.Ellipsoids.WGS84.rocMeridional(lat=45)  )\n",
        "print( pgd.Ellipsoids.WGS84.rocGauss(lat=45)  )\n",
        "print( pgd.Ellipsoids.WGS84.rocBearing( 45, 10 )  )   # at latitude , azimut 0...360"
      ],
      "metadata": {
        "id": "qqF576jSAoLb"
      },
      "execution_count": null,
      "outputs": []
    }
  ]
}